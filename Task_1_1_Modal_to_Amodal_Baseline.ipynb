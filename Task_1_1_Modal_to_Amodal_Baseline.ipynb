{
  "cells": [
    {
      "cell_type": "markdown",
      "id": "199325c3",
      "metadata": {
        "id": "199325c3"
      },
      "source": [
        "# Task 1.1 - Modal → Amodal Mask Prediction Baseline"
      ]
    },
    {
      "cell_type": "code",
      "execution_count": 2,
      "id": "29fc13c2",
      "metadata": {
        "colab": {
          "base_uri": "https://localhost:8080/"
        },
        "id": "29fc13c2",
        "outputId": "025bdf8c-26c4-44d7-b304-b42a0ac84ec5"
      },
      "outputs": [
        {
          "name": "stderr",
          "output_type": "stream",
          "text": [
            "tar: Error opening archive: Failed to open 'ff5da6d6ecae486bb294aeaf5ee8f8a1 (3).tar.gz'\n"
          ]
        }
      ],
      "source": [
        "!tar -xvzf \"ff5da6d6ecae486bb294aeaf5ee8f8a1 (3).tar.gz\" -C /content"
      ]
    },
    {
      "cell_type": "code",
      "execution_count": null,
      "id": "c6c4e7c6",
      "metadata": {
        "colab": {
          "base_uri": "https://localhost:8080/",
          "height": 650
        },
        "id": "c6c4e7c6",
        "outputId": "36c0bf78-8202-46f5-e4f6-330e15ff93ca"
      },
      "outputs": [],
      "source": [
        "from pathlib import Path\n",
        "import torch\n",
        "import torch.nn as nn\n",
        "from torch.utils.data import Dataset, DataLoader, random_split\n",
        "from torchvision import transforms\n",
        "from PIL import Image\n",
        "import numpy as np\n",
        "from tqdm import tqdm\n",
        "import matplotlib.pyplot as plt\n",
        "from pprint import pprint\n",
        "\n",
        "# Dataset class with safe pair matching\n",
        "class RGBAtoSegmentationDataset(Dataset):\n",
        "    def __init__(self, root_path):\n",
        "        self.obj_paths = [f for f in root_path.rglob(\"obj_*\")]\n",
        "\n",
        "        assert len(self.obj_paths) > 0, \"No matched obj paths found.\"\n",
        "\n",
        "        self.transform_img = transforms.Compose([\n",
        "            transforms.Resize((256, 256)),\n",
        "            transforms.ToTensor()\n",
        "        ])\n",
        "        self.transform_mask = transforms.Resize((256, 256))\n",
        "\n",
        "    def __len__(self):\n",
        "        return len(self.obj_paths)\n",
        "\n",
        "    def __getitem__(self, idx):\n",
        "        # self.rgb_paths = []\n",
        "        # self.seg_paths = []\n",
        "        \n",
        "        obj = self.obj_paths[idx]\n",
        "\n",
        "        self.rgb_path = obj.parent / \"rgba_00012.png\"\n",
        "        self.obj_amod_seg_file = obj / \"segmentation_00012.png\"\n",
        "        self.seg_path = obj.parent / \"segmentation_00012.png\"\n",
        "\n",
        "        rgba = Image.open(self.rgb_path).convert(\"RGB\")\n",
        "        amod = Image.open(self.obj_amod_seg_file).convert(\"L\")\n",
        "\n",
        "\n",
        "        seg_np = np.array(Image.open(self.seg_path))\n",
        "        seg_mask = (seg_np == 12).astype(np.uint8)  # binary mask with 0 and 1\n",
        "        seg_img = Image.fromarray(seg_mask * 255)  # for compatibility with resizing\n",
        "\n",
        "        rgba = self.transform_img(rgba)\n",
        "        seg = self.transform_img(seg_img)\n",
        "\n",
        "        input = torch.cat([rgba, seg], dim=0)\n",
        "        output = torch.from_numpy(np.array(self.transform_mask(amod))).long()\n",
        "        output = (output > 0).long()\n",
        "\n",
        "        print(output.max())\n",
        "        # print(\"Input shape:\", input.shape)\n",
        "        # print(\"Output shape:\", output.shape)\n",
        "\n",
        "        return input, output\n"
      ]
    },
    {
      "cell_type": "code",
      "execution_count": 12,
      "id": "95900c87",
      "metadata": {},
      "outputs": [],
      "source": [
        "# U-Net\n",
        "class UNet(nn.Module):\n",
        "    def __init__(self, in_channels=3, out_channels=2):\n",
        "        super(UNet, self).__init__()\n",
        "        def CBR(in_ch, out_ch):\n",
        "            return nn.Sequential(\n",
        "                nn.Conv2d(in_ch, out_ch, 3, padding=1),\n",
        "                nn.BatchNorm2d(out_ch),\n",
        "                nn.ReLU(inplace=True)\n",
        "            )\n",
        "        self.enc1 = nn.Sequential(CBR(in_channels, 64), CBR(64, 64))\n",
        "        self.enc2 = nn.Sequential(CBR(64, 128), CBR(128, 128))\n",
        "        self.enc3 = nn.Sequential(CBR(128, 256), CBR(256, 256))\n",
        "        self.pool = nn.MaxPool2d(2)\n",
        "        self.up1 = nn.ConvTranspose2d(256, 128, 2, stride=2)\n",
        "        self.dec1 = nn.Sequential(CBR(256, 128), CBR(128, 128))\n",
        "        self.up2 = nn.ConvTranspose2d(128, 64, 2, stride=2)\n",
        "        self.dec2 = nn.Sequential(CBR(128, 64), CBR(64, 64))\n",
        "        self.out = nn.Conv2d(64, out_channels, 1)\n",
        "\n",
        "    def forward(self, x):\n",
        "        e1 = self.enc1(x)\n",
        "        e2 = self.enc2(self.pool(e1))\n",
        "        e3 = self.enc3(self.pool(e2))\n",
        "        d1 = self.up1(e3)\n",
        "        d1 = torch.cat([d1, e2], dim=1)\n",
        "        d1 = self.dec1(d1)\n",
        "        d2 = self.up2(d1)\n",
        "        d2 = torch.cat([d2, e1], dim=1)\n",
        "        d2 = self.dec2(d2)\n",
        "        return self.out(d2)\n",
        "\n",
        "# IoU\n",
        "def compute_iou(pred_mask, true_mask):\n",
        "    pred_mask = torch.argmax(pred_mask, dim=1)\n",
        "    intersection = ((pred_mask == true_mask) & (true_mask > 0)).sum().float()\n",
        "    union = ((pred_mask > 0) | (true_mask > 0)).sum().float()\n",
        "    return (intersection + 1e-6) / (union + 1e-6)\n",
        "\n",
        "# Training\n",
        "def train_model(model, dataloader, device, epochs=5):\n",
        "\n",
        "    criterion = nn.CrossEntropyLoss()\n",
        "    optimizer = torch.optim.Adam(model.parameters(), lr=1e-3)\n",
        "\n",
        "    model.train()\n",
        "    for epoch in range(epochs):\n",
        "        total_loss = 0.0\n",
        "        total_iou = 0.0\n",
        "        for img, mask in tqdm(dataloader):\n",
        "            print(img.shape)  # expect [batch_size, 4, 256, 256]\n",
        "            print(mask.shape) # expect [batch_size, 256, 256]\n",
        "            print(mask.min(), mask.max())  # should be 0 and 1\n",
        "            img, mask = img.to(device), mask.to(device)\n",
        "            optimizer.zero_grad()\n",
        "            out = model(img)\n",
        "            loss = criterion(out, mask)\n",
        "            loss.backward()\n",
        "            optimizer.step()\n",
        "            total_loss += loss.item()\n",
        "            total_iou += compute_iou(out, mask).item()\n",
        "        print(f\"Epoch {epoch+1}: Loss = {total_loss/len(dataloader):.4f}, IoU = {total_iou/len(dataloader):.4f}\")\n",
        "\n",
        "# Evaluation\n",
        "def evaluate_model(model, dataloader, device):\n",
        "    model.eval()\n",
        "    total_iou = 0.0\n",
        "    with torch.no_grad():\n",
        "        for img, mask in tqdm(dataloader):\n",
        "            img, mask = img.to(device), mask.to(device)\n",
        "            out = model(img)\n",
        "            total_iou += compute_iou(out, mask).item()\n",
        "    print(f\"Test IoU = {total_iou / len(dataloader):.4f}\")\n",
        "\n",
        "# Optional: Visualize sample prediction\n",
        "def visualize_prediction(model, dataset, device, idx=0):\n",
        "    model.eval()\n",
        "    img, true_mask = dataset[idx]\n",
        "    with torch.no_grad():\n",
        "        pred = model(img.unsqueeze(0).to(device))\n",
        "        pred_mask = torch.argmax(pred.squeeze(), dim=0).cpu().numpy()\n",
        "    fig, axs = plt.subplots(1, 3, figsize=(12, 4))\n",
        "    axs[0].imshow(img.permute(1, 2, 0))\n",
        "    axs[0].set_title(\"Input Image\")\n",
        "    axs[1].imshow(true_mask, cmap=\"gray\")\n",
        "    axs[1].set_title(\"True Mask\")\n",
        "    axs[2].imshow(pred_mask, cmap=\"gray\")\n",
        "    axs[2].set_title(\"Predicted Mask\")\n",
        "    for ax in axs:\n",
        "        ax.axis(\"off\")\n",
        "    plt.tight_layout()\n",
        "    plt.show()\n"
      ]
    },
    {
      "cell_type": "code",
      "execution_count": 17,
      "id": "bd17bf94",
      "metadata": {},
      "outputs": [
        {
          "name": "stdout",
          "output_type": "stream",
          "text": [
            "tensor(255)\n"
          ]
        },
        {
          "data": {
            "text/plain": [
              "(tensor([[[0.4824, 0.5373, 0.5529,  ..., 0.4353, 0.4392, 0.4784],\n",
              "          [0.5333, 0.5490, 0.5882,  ..., 0.3804, 0.3961, 0.4353],\n",
              "          [0.5608, 0.5569, 0.5569,  ..., 0.3765, 0.3922, 0.4275],\n",
              "          ...,\n",
              "          [0.5961, 0.5412, 0.4588,  ..., 0.6353, 0.6392, 0.6431],\n",
              "          [0.5725, 0.5255, 0.4431,  ..., 0.6314, 0.6431, 0.6353],\n",
              "          [0.5451, 0.5137, 0.4392,  ..., 0.6196, 0.6471, 0.6275]],\n",
              " \n",
              "         [[0.4863, 0.5490, 0.5765,  ..., 0.4431, 0.4549, 0.5098],\n",
              "          [0.5765, 0.5882, 0.6392,  ..., 0.4157, 0.4314, 0.4824],\n",
              "          [0.6275, 0.6157, 0.6118,  ..., 0.4235, 0.4392, 0.4863],\n",
              "          ...,\n",
              "          [0.6824, 0.6235, 0.5216,  ..., 0.6353, 0.6353, 0.6510],\n",
              "          [0.6588, 0.6000, 0.4980,  ..., 0.6275, 0.6314, 0.6431],\n",
              "          [0.6235, 0.5882, 0.4980,  ..., 0.6314, 0.6588, 0.6510]],\n",
              " \n",
              "         [[0.4353, 0.4902, 0.5137,  ..., 0.3765, 0.3843, 0.4510],\n",
              "          [0.4706, 0.5020, 0.5686,  ..., 0.3569, 0.3608, 0.3922],\n",
              "          [0.4784, 0.4824, 0.5059,  ..., 0.3725, 0.3804, 0.3843],\n",
              "          ...,\n",
              "          [0.5333, 0.4706, 0.3882,  ..., 0.5255, 0.5216, 0.5216],\n",
              "          [0.5176, 0.4588, 0.3765,  ..., 0.5255, 0.5294, 0.5333],\n",
              "          [0.4863, 0.4588, 0.3922,  ..., 0.5255, 0.5490, 0.5529]],\n",
              " \n",
              "         [[0.0000, 0.0000, 0.0000,  ..., 0.0000, 0.0000, 0.0000],\n",
              "          [0.0000, 0.0000, 0.0000,  ..., 0.0000, 0.0000, 0.0000],\n",
              "          [0.0000, 0.0000, 0.0000,  ..., 0.0000, 0.0000, 0.0000],\n",
              "          ...,\n",
              "          [0.0000, 0.0000, 0.0000,  ..., 0.0000, 0.0000, 0.0000],\n",
              "          [0.0000, 0.0000, 0.0000,  ..., 0.0000, 0.0000, 0.0000],\n",
              "          [0.0000, 0.0000, 0.0000,  ..., 0.0000, 0.0000, 0.0000]]]),\n",
              " tensor([[0, 0, 0,  ..., 0, 0, 0],\n",
              "         [0, 0, 0,  ..., 0, 0, 0],\n",
              "         [0, 0, 0,  ..., 0, 0, 0],\n",
              "         ...,\n",
              "         [0, 0, 0,  ..., 0, 0, 0],\n",
              "         [0, 0, 0,  ..., 0, 0, 0],\n",
              "         [0, 0, 0,  ..., 0, 0, 0]]))"
            ]
          },
          "execution_count": 17,
          "metadata": {},
          "output_type": "execute_result"
        }
      ],
      "source": [
        "root_path = Path(fr\"content\")\n",
        "dataset = RGBAtoSegmentationDataset(root_path)\n",
        "dataset[0]  # Example to trigger dataset loading and item retrieval"
      ]
    },
    {
      "cell_type": "code",
      "execution_count": 13,
      "id": "4073557f",
      "metadata": {},
      "outputs": [
        {
          "name": "stdout",
          "output_type": "stream",
          "text": [
            "Train size: 177, Test size: 45\n"
          ]
        },
        {
          "ename": "RuntimeError",
          "evalue": "CUDA error: device-side assert triggered\nCUDA kernel errors might be asynchronously reported at some other API call, so the stacktrace below might be incorrect.\nFor debugging consider passing CUDA_LAUNCH_BLOCKING=1\nCompile with `TORCH_USE_CUDA_DSA` to enable device-side assertions.\n",
          "output_type": "error",
          "traceback": [
            "\u001b[31m---------------------------------------------------------------------------\u001b[39m",
            "\u001b[31mRuntimeError\u001b[39m                              Traceback (most recent call last)",
            "\u001b[36mCell\u001b[39m\u001b[36m \u001b[39m\u001b[32mIn[13]\u001b[39m\u001b[32m, line 16\u001b[39m\n\u001b[32m     13\u001b[39m test_loader = DataLoader(test_set, batch_size=\u001b[32m2\u001b[39m)\n\u001b[32m     15\u001b[39m device = torch.device(\u001b[33m\"\u001b[39m\u001b[33mcuda\u001b[39m\u001b[33m\"\u001b[39m \u001b[38;5;28;01mif\u001b[39;00m torch.cuda.is_available() \u001b[38;5;28;01melse\u001b[39;00m \u001b[33m\"\u001b[39m\u001b[33mcpu\u001b[39m\u001b[33m\"\u001b[39m)\n\u001b[32m---> \u001b[39m\u001b[32m16\u001b[39m model = \u001b[43mUNet\u001b[49m\u001b[43m(\u001b[49m\u001b[43min_channels\u001b[49m\u001b[43m=\u001b[49m\u001b[32;43m4\u001b[39;49m\u001b[43m,\u001b[49m\u001b[43m \u001b[49m\u001b[43mout_channels\u001b[49m\u001b[43m=\u001b[49m\u001b[32;43m2\u001b[39;49m\u001b[43m)\u001b[49m\u001b[43m.\u001b[49m\u001b[43mto\u001b[49m\u001b[43m(\u001b[49m\u001b[43mdevice\u001b[49m\u001b[43m)\u001b[49m\n\u001b[32m     18\u001b[39m \u001b[38;5;66;03m# Train and evaluate\u001b[39;00m\n\u001b[32m     19\u001b[39m train_model(model, train_loader, device, epochs=\u001b[32m5\u001b[39m)\n",
            "\u001b[36mFile \u001b[39m\u001b[32mc:\\Users\\ipsou\\ProgrammingStuff\\Github\\LLNL_DSC\\.venv\\Lib\\site-packages\\torch\\nn\\modules\\module.py:1355\u001b[39m, in \u001b[36mModule.to\u001b[39m\u001b[34m(self, *args, **kwargs)\u001b[39m\n\u001b[32m   1352\u001b[39m         \u001b[38;5;28;01melse\u001b[39;00m:\n\u001b[32m   1353\u001b[39m             \u001b[38;5;28;01mraise\u001b[39;00m\n\u001b[32m-> \u001b[39m\u001b[32m1355\u001b[39m \u001b[38;5;28;01mreturn\u001b[39;00m \u001b[38;5;28;43mself\u001b[39;49m\u001b[43m.\u001b[49m\u001b[43m_apply\u001b[49m\u001b[43m(\u001b[49m\u001b[43mconvert\u001b[49m\u001b[43m)\u001b[49m\n",
            "\u001b[36mFile \u001b[39m\u001b[32mc:\\Users\\ipsou\\ProgrammingStuff\\Github\\LLNL_DSC\\.venv\\Lib\\site-packages\\torch\\nn\\modules\\module.py:915\u001b[39m, in \u001b[36mModule._apply\u001b[39m\u001b[34m(self, fn, recurse)\u001b[39m\n\u001b[32m    913\u001b[39m \u001b[38;5;28;01mif\u001b[39;00m recurse:\n\u001b[32m    914\u001b[39m     \u001b[38;5;28;01mfor\u001b[39;00m module \u001b[38;5;129;01min\u001b[39;00m \u001b[38;5;28mself\u001b[39m.children():\n\u001b[32m--> \u001b[39m\u001b[32m915\u001b[39m         \u001b[43mmodule\u001b[49m\u001b[43m.\u001b[49m\u001b[43m_apply\u001b[49m\u001b[43m(\u001b[49m\u001b[43mfn\u001b[49m\u001b[43m)\u001b[49m\n\u001b[32m    917\u001b[39m \u001b[38;5;28;01mdef\u001b[39;00m\u001b[38;5;250m \u001b[39m\u001b[34mcompute_should_use_set_data\u001b[39m(tensor, tensor_applied):\n\u001b[32m    918\u001b[39m     \u001b[38;5;28;01mif\u001b[39;00m torch._has_compatible_shallow_copy_type(tensor, tensor_applied):\n\u001b[32m    919\u001b[39m         \u001b[38;5;66;03m# If the new tensor has compatible tensor type as the existing tensor,\u001b[39;00m\n\u001b[32m    920\u001b[39m         \u001b[38;5;66;03m# the current behavior is to change the tensor in-place using `.data =`,\u001b[39;00m\n\u001b[32m   (...)\u001b[39m\u001b[32m    925\u001b[39m         \u001b[38;5;66;03m# global flag to let the user control whether they want the future\u001b[39;00m\n\u001b[32m    926\u001b[39m         \u001b[38;5;66;03m# behavior of overwriting the existing tensor or not.\u001b[39;00m\n",
            "\u001b[36mFile \u001b[39m\u001b[32mc:\\Users\\ipsou\\ProgrammingStuff\\Github\\LLNL_DSC\\.venv\\Lib\\site-packages\\torch\\nn\\modules\\module.py:915\u001b[39m, in \u001b[36mModule._apply\u001b[39m\u001b[34m(self, fn, recurse)\u001b[39m\n\u001b[32m    913\u001b[39m \u001b[38;5;28;01mif\u001b[39;00m recurse:\n\u001b[32m    914\u001b[39m     \u001b[38;5;28;01mfor\u001b[39;00m module \u001b[38;5;129;01min\u001b[39;00m \u001b[38;5;28mself\u001b[39m.children():\n\u001b[32m--> \u001b[39m\u001b[32m915\u001b[39m         \u001b[43mmodule\u001b[49m\u001b[43m.\u001b[49m\u001b[43m_apply\u001b[49m\u001b[43m(\u001b[49m\u001b[43mfn\u001b[49m\u001b[43m)\u001b[49m\n\u001b[32m    917\u001b[39m \u001b[38;5;28;01mdef\u001b[39;00m\u001b[38;5;250m \u001b[39m\u001b[34mcompute_should_use_set_data\u001b[39m(tensor, tensor_applied):\n\u001b[32m    918\u001b[39m     \u001b[38;5;28;01mif\u001b[39;00m torch._has_compatible_shallow_copy_type(tensor, tensor_applied):\n\u001b[32m    919\u001b[39m         \u001b[38;5;66;03m# If the new tensor has compatible tensor type as the existing tensor,\u001b[39;00m\n\u001b[32m    920\u001b[39m         \u001b[38;5;66;03m# the current behavior is to change the tensor in-place using `.data =`,\u001b[39;00m\n\u001b[32m   (...)\u001b[39m\u001b[32m    925\u001b[39m         \u001b[38;5;66;03m# global flag to let the user control whether they want the future\u001b[39;00m\n\u001b[32m    926\u001b[39m         \u001b[38;5;66;03m# behavior of overwriting the existing tensor or not.\u001b[39;00m\n",
            "\u001b[36mFile \u001b[39m\u001b[32mc:\\Users\\ipsou\\ProgrammingStuff\\Github\\LLNL_DSC\\.venv\\Lib\\site-packages\\torch\\nn\\modules\\module.py:915\u001b[39m, in \u001b[36mModule._apply\u001b[39m\u001b[34m(self, fn, recurse)\u001b[39m\n\u001b[32m    913\u001b[39m \u001b[38;5;28;01mif\u001b[39;00m recurse:\n\u001b[32m    914\u001b[39m     \u001b[38;5;28;01mfor\u001b[39;00m module \u001b[38;5;129;01min\u001b[39;00m \u001b[38;5;28mself\u001b[39m.children():\n\u001b[32m--> \u001b[39m\u001b[32m915\u001b[39m         \u001b[43mmodule\u001b[49m\u001b[43m.\u001b[49m\u001b[43m_apply\u001b[49m\u001b[43m(\u001b[49m\u001b[43mfn\u001b[49m\u001b[43m)\u001b[49m\n\u001b[32m    917\u001b[39m \u001b[38;5;28;01mdef\u001b[39;00m\u001b[38;5;250m \u001b[39m\u001b[34mcompute_should_use_set_data\u001b[39m(tensor, tensor_applied):\n\u001b[32m    918\u001b[39m     \u001b[38;5;28;01mif\u001b[39;00m torch._has_compatible_shallow_copy_type(tensor, tensor_applied):\n\u001b[32m    919\u001b[39m         \u001b[38;5;66;03m# If the new tensor has compatible tensor type as the existing tensor,\u001b[39;00m\n\u001b[32m    920\u001b[39m         \u001b[38;5;66;03m# the current behavior is to change the tensor in-place using `.data =`,\u001b[39;00m\n\u001b[32m   (...)\u001b[39m\u001b[32m    925\u001b[39m         \u001b[38;5;66;03m# global flag to let the user control whether they want the future\u001b[39;00m\n\u001b[32m    926\u001b[39m         \u001b[38;5;66;03m# behavior of overwriting the existing tensor or not.\u001b[39;00m\n",
            "\u001b[36mFile \u001b[39m\u001b[32mc:\\Users\\ipsou\\ProgrammingStuff\\Github\\LLNL_DSC\\.venv\\Lib\\site-packages\\torch\\nn\\modules\\module.py:942\u001b[39m, in \u001b[36mModule._apply\u001b[39m\u001b[34m(self, fn, recurse)\u001b[39m\n\u001b[32m    938\u001b[39m \u001b[38;5;66;03m# Tensors stored in modules are graph leaves, and we don't want to\u001b[39;00m\n\u001b[32m    939\u001b[39m \u001b[38;5;66;03m# track autograd history of `param_applied`, so we have to use\u001b[39;00m\n\u001b[32m    940\u001b[39m \u001b[38;5;66;03m# `with torch.no_grad():`\u001b[39;00m\n\u001b[32m    941\u001b[39m \u001b[38;5;28;01mwith\u001b[39;00m torch.no_grad():\n\u001b[32m--> \u001b[39m\u001b[32m942\u001b[39m     param_applied = \u001b[43mfn\u001b[49m\u001b[43m(\u001b[49m\u001b[43mparam\u001b[49m\u001b[43m)\u001b[49m\n\u001b[32m    943\u001b[39m p_should_use_set_data = compute_should_use_set_data(param, param_applied)\n\u001b[32m    945\u001b[39m \u001b[38;5;66;03m# subclasses may have multiple child tensors so we need to use swap_tensors\u001b[39;00m\n",
            "\u001b[36mFile \u001b[39m\u001b[32mc:\\Users\\ipsou\\ProgrammingStuff\\Github\\LLNL_DSC\\.venv\\Lib\\site-packages\\torch\\nn\\modules\\module.py:1341\u001b[39m, in \u001b[36mModule.to.<locals>.convert\u001b[39m\u001b[34m(t)\u001b[39m\n\u001b[32m   1334\u001b[39m     \u001b[38;5;28;01mif\u001b[39;00m convert_to_format \u001b[38;5;129;01mis\u001b[39;00m \u001b[38;5;129;01mnot\u001b[39;00m \u001b[38;5;28;01mNone\u001b[39;00m \u001b[38;5;129;01mand\u001b[39;00m t.dim() \u001b[38;5;129;01min\u001b[39;00m (\u001b[32m4\u001b[39m, \u001b[32m5\u001b[39m):\n\u001b[32m   1335\u001b[39m         \u001b[38;5;28;01mreturn\u001b[39;00m t.to(\n\u001b[32m   1336\u001b[39m             device,\n\u001b[32m   1337\u001b[39m             dtype \u001b[38;5;28;01mif\u001b[39;00m t.is_floating_point() \u001b[38;5;129;01mor\u001b[39;00m t.is_complex() \u001b[38;5;28;01melse\u001b[39;00m \u001b[38;5;28;01mNone\u001b[39;00m,\n\u001b[32m   1338\u001b[39m             non_blocking,\n\u001b[32m   1339\u001b[39m             memory_format=convert_to_format,\n\u001b[32m   1340\u001b[39m         )\n\u001b[32m-> \u001b[39m\u001b[32m1341\u001b[39m     \u001b[38;5;28;01mreturn\u001b[39;00m \u001b[43mt\u001b[49m\u001b[43m.\u001b[49m\u001b[43mto\u001b[49m\u001b[43m(\u001b[49m\n\u001b[32m   1342\u001b[39m \u001b[43m        \u001b[49m\u001b[43mdevice\u001b[49m\u001b[43m,\u001b[49m\n\u001b[32m   1343\u001b[39m \u001b[43m        \u001b[49m\u001b[43mdtype\u001b[49m\u001b[43m \u001b[49m\u001b[38;5;28;43;01mif\u001b[39;49;00m\u001b[43m \u001b[49m\u001b[43mt\u001b[49m\u001b[43m.\u001b[49m\u001b[43mis_floating_point\u001b[49m\u001b[43m(\u001b[49m\u001b[43m)\u001b[49m\u001b[43m \u001b[49m\u001b[38;5;129;43;01mor\u001b[39;49;00m\u001b[43m \u001b[49m\u001b[43mt\u001b[49m\u001b[43m.\u001b[49m\u001b[43mis_complex\u001b[49m\u001b[43m(\u001b[49m\u001b[43m)\u001b[49m\u001b[43m \u001b[49m\u001b[38;5;28;43;01melse\u001b[39;49;00m\u001b[43m \u001b[49m\u001b[38;5;28;43;01mNone\u001b[39;49;00m\u001b[43m,\u001b[49m\n\u001b[32m   1344\u001b[39m \u001b[43m        \u001b[49m\u001b[43mnon_blocking\u001b[49m\u001b[43m,\u001b[49m\n\u001b[32m   1345\u001b[39m \u001b[43m    \u001b[49m\u001b[43m)\u001b[49m\n\u001b[32m   1346\u001b[39m \u001b[38;5;28;01mexcept\u001b[39;00m \u001b[38;5;167;01mNotImplementedError\u001b[39;00m \u001b[38;5;28;01mas\u001b[39;00m e:\n\u001b[32m   1347\u001b[39m     \u001b[38;5;28;01mif\u001b[39;00m \u001b[38;5;28mstr\u001b[39m(e) == \u001b[33m\"\u001b[39m\u001b[33mCannot copy out of meta tensor; no data!\u001b[39m\u001b[33m\"\u001b[39m:\n",
            "\u001b[31mRuntimeError\u001b[39m: CUDA error: device-side assert triggered\nCUDA kernel errors might be asynchronously reported at some other API call, so the stacktrace below might be incorrect.\nFor debugging consider passing CUDA_LAUNCH_BLOCKING=1\nCompile with `TORCH_USE_CUDA_DSA` to enable device-side assertions.\n"
          ]
        }
      ],
      "source": [
        "# Main script\n",
        "root_path = Path(fr\"content\")\n",
        "dataset = RGBAtoSegmentationDataset(root_path)\n",
        "\n",
        "# Split into train/test\n",
        "train_size = int(0.8 * len(dataset))\n",
        "test_size = len(dataset) - train_size\n",
        "train_set, test_set = random_split(dataset, [train_size, test_size])\n",
        "\n",
        "print(f\"Train size: {len(train_set)}, Test size: {len(test_set)}\")\n",
        "\n",
        "train_loader = DataLoader(train_set, batch_size=2, shuffle=True)\n",
        "test_loader = DataLoader(test_set, batch_size=2)\n",
        "\n",
        "device = torch.device(\"cuda\" if torch.cuda.is_available() else \"cpu\")\n",
        "model = UNet(in_channels=4, out_channels=2).to(device)\n",
        "\n",
        "# Train and evaluate\n",
        "train_model(model, train_loader, device, epochs=5)\n",
        "evaluate_model(model, test_loader, device)\n",
        "\n",
        "# Visualize prediction from test set\n",
        "visualize_prediction(model, test_set, device, idx=0)"
      ]
    },
    {
      "cell_type": "code",
      "execution_count": null,
      "id": "Eyy0stVIdCAL",
      "metadata": {
        "colab": {
          "base_uri": "https://localhost:8080/",
          "height": 1000
        },
        "id": "Eyy0stVIdCAL",
        "outputId": "261b550d-d07f-4f73-c52d-60d7c3b98593"
      },
      "outputs": [
        {
          "name": "stdout",
          "output_type": "stream",
          "text": [
            "Found 0 object folders.\n"
          ]
        },
        {
          "name": "stderr",
          "output_type": "stream",
          "text": [
            "Infer middle frames: 0it [00:00, ?it/s]\n"
          ]
        }
      ],
      "source": [
        "from pathlib import Path\n",
        "import torch\n",
        "from torchvision import transforms\n",
        "from PIL import Image\n",
        "import numpy as np\n",
        "import matplotlib.pyplot as plt\n",
        "from tqdm import tqdm\n",
        "# ——— Transforms ————————————————\n",
        "transform_img = transforms.Compose([\n",
        "    transforms.Resize((256, 256)),\n",
        "    transforms.ToTensor()\n",
        "])\n",
        "transform_mask = transforms.Resize((256, 256))\n",
        "# ——— Make sure 'model' is already defined & trained above ———\n",
        "# If you restarted the runtime, re-define the UNet class and then:\n",
        "# model = UNet().to(device)\n",
        "# model.load_state_dict(torch.load(\"model.pth\"))\n",
        "# model.eval()\n",
        "device = torch.device(\"cuda\" if torch.cuda.is_available() else \"cpu\")\n",
        "model.to(device).eval()\n",
        "# ——— Data root & find object folders —————————\n",
        "root_path   = Path(\"/content/ff5da6d6ecae486bb294aeaf5ee8f8a1\")\n",
        "obj_folders = sorted(root_path.rglob(\"obj_*\"))\n",
        "print(f\"Found {len(obj_folders)} object folders.\")\n",
        "# ——— Inference loop ——————————————————————\n",
        "for obj_path in tqdm(obj_folders, desc=\"Infer middle frames\"):\n",
        "    rgba_files = sorted(obj_path.glob(\"rgba_*.png\"))\n",
        "    amodal_seg_files  = sorted(obj_path.glob(\"segmentation_*.png\"))\n",
        "    if not rgba_files or not amodal_seg_files:\n",
        "        continue\n",
        "    mid = len(rgba_files) // 2\n",
        "    img = Image.open(rgba_files[mid]).convert(\"RGB\")\n",
        "    gt  = Image.open(amodal_seg_files[mid]).convert(\"L\")\n",
        "    # preprocess\n",
        "    x = transform_img(img).unsqueeze(0).to(device)\n",
        "    g = torch.from_numpy(np.array(transform_mask(gt))).long()\n",
        "    g[g > 0] = 1\n",
        "    # predict\n",
        "    with torch.no_grad():\n",
        "        out      = model(x)                     # (1, 2, H, W)\n",
        "        pred_np  = torch.argmax(out, dim=1)[0]  # (H, W), values 0 or 1\n",
        "        pred_np  = pred_np.cpu().numpy()\n",
        "    # plot\n",
        "    plt.figure(figsize=(10,3))\n",
        "    plt.subplot(1,3,1)\n",
        "    plt.imshow(img);     plt.title(\"Input\");      plt.axis(\"off\")\n",
        "    plt.subplot(1,3,2)\n",
        "    plt.imshow(g, cmap=\"gray\"); plt.title(\"Ground Truth\"); plt.axis(\"off\")\n",
        "    plt.subplot(1,3,3)\n",
        "    plt.imshow(pred_np, cmap=\"gray\"); plt.title(\"Prediction\"); plt.axis(\"off\")\n",
        "    plt.tight_layout()\n",
        "    plt.show()\n"
      ]
    },
    {
      "cell_type": "code",
      "execution_count": null,
      "id": "26397c3b",
      "metadata": {},
      "outputs": [],
      "source": []
    }
  ],
  "metadata": {
    "accelerator": "GPU",
    "colab": {
      "gpuType": "T4",
      "provenance": []
    },
    "kernelspec": {
      "display_name": ".venv",
      "language": "python",
      "name": "python3"
    },
    "language_info": {
      "codemirror_mode": {
        "name": "ipython",
        "version": 3
      },
      "file_extension": ".py",
      "mimetype": "text/x-python",
      "name": "python",
      "nbconvert_exporter": "python",
      "pygments_lexer": "ipython3",
      "version": "3.12.4"
    }
  },
  "nbformat": 4,
  "nbformat_minor": 5
}
